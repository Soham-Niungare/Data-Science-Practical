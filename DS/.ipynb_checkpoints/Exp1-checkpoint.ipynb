{
 "cells": [
  {
   "cell_type": "code",
   "execution_count": 1,
   "id": "ac168947-b8b6-45f1-bff9-0f607b4d1b9a",
   "metadata": {},
   "outputs": [],
   "source": [
    "import pandas as pd\n",
    "import numpy as np"
   ]
  },
  {
   "cell_type": "code",
   "execution_count": 2,
   "id": "2f6c673d-9a81-49f1-b9fb-8da076a333a6",
   "metadata": {},
   "outputs": [],
   "source": [
    "data = pd.read_csv(\"DataSet/data1.csv\")"
   ]
  },
  {
   "cell_type": "code",
   "execution_count": 3,
   "id": "1c4fa848-e7c3-4eed-a2e0-636400b755d7",
   "metadata": {},
   "outputs": [],
   "source": [
    "data.drop(columns=['urbanization', 'geographic_area', 'sedentary'], inplace=True)"
   ]
  },
  {
   "cell_type": "code",
   "execution_count": 4,
   "id": "2d02235d-ff25-4559-b5dc-424f37b0a1e7",
   "metadata": {},
   "outputs": [
    {
     "data": {
      "text/html": [
       "<div>\n",
       "<style scoped>\n",
       "    .dataframe tbody tr th:only-of-type {\n",
       "        vertical-align: middle;\n",
       "    }\n",
       "\n",
       "    .dataframe tbody tr th {\n",
       "        vertical-align: top;\n",
       "    }\n",
       "\n",
       "    .dataframe thead th {\n",
       "        text-align: right;\n",
       "    }\n",
       "</style>\n",
       "<table border=\"1\" class=\"dataframe\">\n",
       "  <thead>\n",
       "    <tr style=\"text-align: right;\">\n",
       "      <th></th>\n",
       "      <th>sex</th>\n",
       "      <th>age</th>\n",
       "      <th>education</th>\n",
       "      <th>allergy</th>\n",
       "      <th>smoke</th>\n",
       "      <th>asthma</th>\n",
       "    </tr>\n",
       "  </thead>\n",
       "  <tbody>\n",
       "    <tr>\n",
       "      <th>0</th>\n",
       "      <td>male</td>\n",
       "      <td>adult</td>\n",
       "      <td>low</td>\n",
       "      <td>yes</td>\n",
       "      <td>yes</td>\n",
       "      <td>yes</td>\n",
       "    </tr>\n",
       "    <tr>\n",
       "      <th>1</th>\n",
       "      <td>female</td>\n",
       "      <td>old</td>\n",
       "      <td>low</td>\n",
       "      <td>yes</td>\n",
       "      <td>no</td>\n",
       "      <td>yes</td>\n",
       "    </tr>\n",
       "    <tr>\n",
       "      <th>2</th>\n",
       "      <td>female</td>\n",
       "      <td>adult</td>\n",
       "      <td>high</td>\n",
       "      <td>no</td>\n",
       "      <td>no</td>\n",
       "      <td>yes</td>\n",
       "    </tr>\n",
       "    <tr>\n",
       "      <th>3</th>\n",
       "      <td>male</td>\n",
       "      <td>adult</td>\n",
       "      <td>low</td>\n",
       "      <td>yes</td>\n",
       "      <td>no</td>\n",
       "      <td>no</td>\n",
       "    </tr>\n",
       "    <tr>\n",
       "      <th>4</th>\n",
       "      <td>female</td>\n",
       "      <td>adult</td>\n",
       "      <td>high</td>\n",
       "      <td>no</td>\n",
       "      <td>no</td>\n",
       "      <td>no</td>\n",
       "    </tr>\n",
       "  </tbody>\n",
       "</table>\n",
       "</div>"
      ],
      "text/plain": [
       "      sex    age education allergy smoke asthma\n",
       "0    male  adult       low     yes   yes    yes\n",
       "1  female    old       low     yes    no    yes\n",
       "2  female  adult      high      no    no    yes\n",
       "3    male  adult       low     yes    no     no\n",
       "4  female  adult      high      no    no     no"
      ]
     },
     "execution_count": 4,
     "metadata": {},
     "output_type": "execute_result"
    }
   ],
   "source": [
    "data.head()"
   ]
  },
  {
   "cell_type": "code",
   "execution_count": 5,
   "id": "04ec09df-40b9-4274-990a-b3b43036796e",
   "metadata": {},
   "outputs": [
    {
     "name": "stdout",
     "output_type": "stream",
     "text": [
      "<class 'pandas.core.frame.DataFrame'>\n",
      "RangeIndex: 2755 entries, 0 to 2754\n",
      "Data columns (total 6 columns):\n",
      " #   Column     Non-Null Count  Dtype \n",
      "---  ------     --------------  ----- \n",
      " 0   sex        2755 non-null   object\n",
      " 1   age        2755 non-null   object\n",
      " 2   education  2755 non-null   object\n",
      " 3   allergy    2755 non-null   object\n",
      " 4   smoke      2755 non-null   object\n",
      " 5   asthma     2755 non-null   object\n",
      "dtypes: object(6)\n",
      "memory usage: 129.3+ KB\n"
     ]
    }
   ],
   "source": [
    "data.info()"
   ]
  },
  {
   "cell_type": "code",
   "execution_count": 6,
   "id": "a25d1a55-e5da-4212-8682-075be73f6726",
   "metadata": {},
   "outputs": [],
   "source": [
    "from pgmpy.models import BayesianNetwork\n",
    "from pgmpy.factors.discrete import TabularCPD"
   ]
  },
  {
   "cell_type": "markdown",
   "id": "c1b922ee-c291-4421-9055-a91e52309066",
   "metadata": {},
   "source": [
    "### Our Empty Bayesian Network"
   ]
  },
  {
   "cell_type": "code",
   "execution_count": 7,
   "id": "915110af-09bb-4a31-9e4c-6b6c8f744c66",
   "metadata": {},
   "outputs": [],
   "source": [
    "model = BayesianNetwork()"
   ]
  },
  {
   "cell_type": "code",
   "execution_count": 8,
   "id": "1c5b4287-7872-4630-8e38-f75de6fb2bc1",
   "metadata": {},
   "outputs": [],
   "source": [
    "model.add_nodes_from(['sex', 'smoke', 'age', 'education', 'allergy', 'asthma'])"
   ]
  },
  {
   "cell_type": "markdown",
   "id": "e232c949-ba7e-4596-b704-593124d0d71a",
   "metadata": {},
   "source": [
    "### Add edges based on conditional dependencies"
   ]
  },
  {
   "cell_type": "code",
   "execution_count": 9,
   "id": "790e215d-c1b8-4430-8e3c-0e6d87969565",
   "metadata": {},
   "outputs": [],
   "source": [
    "model.add_edges_from([\n",
    "    ('sex', 'asthma'),\n",
    "    ('smoke', 'asthma'),\n",
    "    ('age', 'asthma'),\n",
    "    ('education', 'asthma'),\n",
    "    ('allergy', 'asthma')\n",
    "])"
   ]
  },
  {
   "cell_type": "code",
   "execution_count": 10,
   "id": "16c3521f-37e9-47e5-89f0-40fddb008056",
   "metadata": {},
   "outputs": [],
   "source": [
    "grouped = data.groupby(['sex', 'smoke', 'age', 'education', 'allergy', 'asthma']).size().unstack(fill_value=0)\n",
    "probs = grouped.div(grouped.sum(axis=1), axis=0).fillna(0)"
   ]
  },
  {
   "cell_type": "code",
   "execution_count": 11,
   "id": "68094d3f-346c-42ff-b4c2-2431b3d2ee4c",
   "metadata": {},
   "outputs": [],
   "source": [
    "values = np.array(probs.T.values).tolist()"
   ]
  },
  {
   "cell_type": "code",
   "execution_count": 12,
   "id": "7118000f-fe7b-4411-8866-4d495d82778a",
   "metadata": {},
   "outputs": [],
   "source": [
    "cpd_asthma = TabularCPD(\n",
    "    variable='asthma',\n",
    "    variable_card=2,\n",
    "    values=values,\n",
    "    evidence=['sex', 'smoke', 'age', 'education', 'allergy'],\n",
    "    evidence_card=[2, 2, 3, 2, 2]\n",
    ")"
   ]
  },
  {
   "cell_type": "code",
   "execution_count": 13,
   "id": "77235a2b-0bd7-4cc7-8a35-ce35015d645c",
   "metadata": {},
   "outputs": [],
   "source": [
    "cpd_sex = TabularCPD(variable=\"sex\", variable_card=2, values=[[0.5], [0.5]])"
   ]
  },
  {
   "cell_type": "code",
   "execution_count": 14,
   "id": "5f10fb65-e4b4-4e72-9cba-b7e02539a71b",
   "metadata": {},
   "outputs": [],
   "source": [
    "cpd_age = TabularCPD(variable=\"age\", variable_card=3, values=[[0.3],[0.6],[0.1]])"
   ]
  },
  {
   "cell_type": "code",
   "execution_count": 15,
   "id": "695cb21d-27f3-4310-91e3-2c708e62c100",
   "metadata": {},
   "outputs": [],
   "source": [
    "cpd_education = TabularCPD(variable=\"education\", variable_card=2,values=[[0.6],[0.4]])"
   ]
  },
  {
   "cell_type": "code",
   "execution_count": 16,
   "id": "2fae118d-dd36-4150-92da-1beddc8196aa",
   "metadata": {},
   "outputs": [],
   "source": [
    "cpd_allergy = TabularCPD(variable=\"allergy\", variable_card=2,values=[[0.3],[0.7]])"
   ]
  },
  {
   "cell_type": "code",
   "execution_count": 17,
   "id": "ec14ca7d-fdca-485f-aa1e-3e579d813b1d",
   "metadata": {},
   "outputs": [],
   "source": [
    "cpd_smoke = TabularCPD(variable=\"smoke\", variable_card=2,values=[[0.2],[0.8]])"
   ]
  },
  {
   "cell_type": "code",
   "execution_count": 18,
   "id": "29f0dd1e-03b2-4493-aa90-ab230b914ca1",
   "metadata": {},
   "outputs": [],
   "source": [
    "model.add_cpds(cpd_sex, cpd_age, cpd_education, cpd_allergy, cpd_smoke, cpd_asthma)\n"
   ]
  },
  {
   "cell_type": "code",
   "execution_count": 19,
   "id": "c7a4321e-1fb1-4fd8-8eaf-3c0b4af05e14",
   "metadata": {},
   "outputs": [
    {
     "data": {
      "text/plain": [
       "True"
      ]
     },
     "execution_count": 19,
     "metadata": {},
     "output_type": "execute_result"
    }
   ],
   "source": [
    "model.check_model()"
   ]
  },
  {
   "cell_type": "code",
   "execution_count": 20,
   "id": "b0dabe0b-60a3-4f12-85fc-cf0c7732f0fe",
   "metadata": {},
   "outputs": [],
   "source": [
    "from pgmpy.inference import VariableElimination"
   ]
  },
  {
   "cell_type": "code",
   "execution_count": 21,
   "id": "ce928bc0-10db-42da-a672-fbc43d23a06e",
   "metadata": {},
   "outputs": [
    {
     "name": "stdout",
     "output_type": "stream",
     "text": [
      "+-----------+---------------+\n",
      "| asthma    |   phi(asthma) |\n",
      "+===========+===============+\n",
      "| asthma(0) |        0.3563 |\n",
      "+-----------+---------------+\n",
      "| asthma(1) |        0.6437 |\n",
      "+-----------+---------------+\n"
     ]
    }
   ],
   "source": [
    "inference = VariableElimination(model)\n",
    "probability = inference.query(variables=[\"asthma\"], evidence={\"education\": 1})\n",
    "print(probability)"
   ]
  },
  {
   "cell_type": "code",
   "execution_count": 44,
   "id": "9c3e9b93-2e70-476d-af22-b3344180dccc",
   "metadata": {},
   "outputs": [
    {
     "data": {
      "application/vnd.jupyter.widget-view+json": {
       "model_id": "faf1103e8f8d4fd59c4dc0ed3c15a38c",
       "version_major": 2,
       "version_minor": 0
      },
      "text/plain": [
       "HBox(children=(IntProgress(value=0, max=4), HTML(value='')))"
      ]
     },
     "metadata": {},
     "output_type": "display_data"
    },
    {
     "name": "stdout",
     "output_type": "stream",
     "text": [
      "\n"
     ]
    },
    {
     "data": {
      "application/vnd.jupyter.widget-view+json": {
       "model_id": "51c432adf4274904a3680ad480d1f45d",
       "version_major": 2,
       "version_minor": 0
      },
      "text/plain": [
       "HBox(children=(IntProgress(value=0, max=4), HTML(value='')))"
      ]
     },
     "metadata": {},
     "output_type": "display_data"
    },
    {
     "name": "stdout",
     "output_type": "stream",
     "text": [
      "\n",
      "{'asthma': 1}\n"
     ]
    }
   ],
   "source": [
    "predicted = inference.map_query(variables=[\"asthma\"], evidence={\"sex\": 1})\n",
    "print(predicted)"
   ]
  },
  {
   "cell_type": "code",
   "execution_count": 23,
   "id": "abb84ef1-d612-419d-9591-d48aabae2ca0",
   "metadata": {},
   "outputs": [],
   "source": [
    "infer = VariableElimination(model)"
   ]
  },
  {
   "cell_type": "code",
   "execution_count": 24,
   "id": "097764ba-8269-4cf4-aed9-141852bcc946",
   "metadata": {},
   "outputs": [],
   "source": [
    "samples = infer.query(variables=['sex', 'smoke', 'age', 'education', 'allergy', 'asthma'])\n"
   ]
  },
  {
   "cell_type": "code",
   "execution_count": 25,
   "id": "54b9c3fc-87be-4c7b-a455-7706106e49dc",
   "metadata": {},
   "outputs": [
    {
     "name": "stdout",
     "output_type": "stream",
     "text": [
      "+--------+----------+--------+--------------+------------+-----------+-----------------------------------------------+\n",
      "| sex    | smoke    | age    | education    | allergy    | asthma    |   phi(sex,smoke,age,education,allergy,asthma) |\n",
      "+========+==========+========+==============+============+===========+===============================================+\n",
      "| sex(0) | smoke(0) | age(0) | education(0) | allergy(0) | asthma(0) |                                        0.0041 |\n",
      "+--------+----------+--------+--------------+------------+-----------+-----------------------------------------------+\n",
      "| sex(0) | smoke(0) | age(0) | education(0) | allergy(0) | asthma(1) |                                        0.0013 |\n",
      "+--------+----------+--------+--------------+------------+-----------+-----------------------------------------------+\n",
      "| sex(0) | smoke(0) | age(0) | education(0) | allergy(1) | asthma(0) |                                        0.0031 |\n",
      "+--------+----------+--------+--------------+------------+-----------+-----------------------------------------------+\n",
      "| sex(0) | smoke(0) | age(0) | education(0) | allergy(1) | asthma(1) |                                        0.0095 |\n",
      "+--------+----------+--------+--------------+------------+-----------+-----------------------------------------------+\n",
      "| sex(0) | smoke(0) | age(0) | education(1) | allergy(0) | asthma(0) |                                        0.0030 |\n",
      "+--------+----------+--------+--------------+------------+-----------+-----------------------------------------------+\n",
      "| sex(0) | smoke(0) | age(0) | education(1) | allergy(0) | asthma(1) |                                        0.0006 |\n",
      "+--------+----------+--------+--------------+------------+-----------+-----------------------------------------------+\n",
      "| sex(0) | smoke(0) | age(0) | education(1) | allergy(1) | asthma(0) |                                        0.0019 |\n",
      "+--------+----------+--------+--------------+------------+-----------+-----------------------------------------------+\n",
      "| sex(0) | smoke(0) | age(0) | education(1) | allergy(1) | asthma(1) |                                        0.0065 |\n",
      "+--------+----------+--------+--------------+------------+-----------+-----------------------------------------------+\n",
      "| sex(0) | smoke(0) | age(1) | education(0) | allergy(0) | asthma(0) |                                        0.0082 |\n",
      "+--------+----------+--------+--------------+------------+-----------+-----------------------------------------------+\n",
      "| sex(0) | smoke(0) | age(1) | education(0) | allergy(0) | asthma(1) |                                        0.0026 |\n",
      "+--------+----------+--------+--------------+------------+-----------+-----------------------------------------------+\n",
      "| sex(0) | smoke(0) | age(1) | education(0) | allergy(1) | asthma(0) |                                        0.0096 |\n",
      "+--------+----------+--------+--------------+------------+-----------+-----------------------------------------------+\n",
      "| sex(0) | smoke(0) | age(1) | education(0) | allergy(1) | asthma(1) |                                        0.0156 |\n",
      "+--------+----------+--------+--------------+------------+-----------+-----------------------------------------------+\n",
      "| sex(0) | smoke(0) | age(1) | education(1) | allergy(0) | asthma(0) |                                        0.0041 |\n",
      "+--------+----------+--------+--------------+------------+-----------+-----------------------------------------------+\n",
      "| sex(0) | smoke(0) | age(1) | education(1) | allergy(0) | asthma(1) |                                        0.0031 |\n",
      "+--------+----------+--------+--------------+------------+-----------+-----------------------------------------------+\n",
      "| sex(0) | smoke(0) | age(1) | education(1) | allergy(1) | asthma(0) |                                        0.0030 |\n",
      "+--------+----------+--------+--------------+------------+-----------+-----------------------------------------------+\n",
      "| sex(0) | smoke(0) | age(1) | education(1) | allergy(1) | asthma(1) |                                        0.0138 |\n",
      "+--------+----------+--------+--------------+------------+-----------+-----------------------------------------------+\n",
      "| sex(0) | smoke(0) | age(2) | education(0) | allergy(0) | asthma(0) |                                        0.0015 |\n",
      "+--------+----------+--------+--------------+------------+-----------+-----------------------------------------------+\n",
      "| sex(0) | smoke(0) | age(2) | education(0) | allergy(0) | asthma(1) |                                        0.0003 |\n",
      "+--------+----------+--------+--------------+------------+-----------+-----------------------------------------------+\n",
      "| sex(0) | smoke(0) | age(2) | education(0) | allergy(1) | asthma(0) |                                        0.0017 |\n",
      "+--------+----------+--------+--------------+------------+-----------+-----------------------------------------------+\n",
      "| sex(0) | smoke(0) | age(2) | education(0) | allergy(1) | asthma(1) |                                        0.0025 |\n",
      "+--------+----------+--------+--------------+------------+-----------+-----------------------------------------------+\n",
      "| sex(0) | smoke(0) | age(2) | education(1) | allergy(0) | asthma(0) |                                        0.0010 |\n",
      "+--------+----------+--------+--------------+------------+-----------+-----------------------------------------------+\n",
      "| sex(0) | smoke(0) | age(2) | education(1) | allergy(0) | asthma(1) |                                        0.0002 |\n",
      "+--------+----------+--------+--------------+------------+-----------+-----------------------------------------------+\n",
      "| sex(0) | smoke(0) | age(2) | education(1) | allergy(1) | asthma(0) |                                        0.0009 |\n",
      "+--------+----------+--------+--------------+------------+-----------+-----------------------------------------------+\n",
      "| sex(0) | smoke(0) | age(2) | education(1) | allergy(1) | asthma(1) |                                        0.0019 |\n",
      "+--------+----------+--------+--------------+------------+-----------+-----------------------------------------------+\n",
      "| sex(0) | smoke(1) | age(0) | education(0) | allergy(0) | asthma(0) |                                        0.0179 |\n",
      "+--------+----------+--------+--------------+------------+-----------+-----------------------------------------------+\n",
      "| sex(0) | smoke(1) | age(0) | education(0) | allergy(0) | asthma(1) |                                        0.0037 |\n",
      "+--------+----------+--------+--------------+------------+-----------+-----------------------------------------------+\n",
      "| sex(0) | smoke(1) | age(0) | education(0) | allergy(1) | asthma(0) |                                        0.0108 |\n",
      "+--------+----------+--------+--------------+------------+-----------+-----------------------------------------------+\n",
      "| sex(0) | smoke(1) | age(0) | education(0) | allergy(1) | asthma(1) |                                        0.0396 |\n",
      "+--------+----------+--------+--------------+------------+-----------+-----------------------------------------------+\n",
      "| sex(0) | smoke(1) | age(0) | education(1) | allergy(0) | asthma(0) |                                        0.0077 |\n",
      "+--------+----------+--------+--------------+------------+-----------+-----------------------------------------------+\n",
      "| sex(0) | smoke(1) | age(0) | education(1) | allergy(0) | asthma(1) |                                        0.0067 |\n",
      "+--------+----------+--------+--------------+------------+-----------+-----------------------------------------------+\n",
      "| sex(0) | smoke(1) | age(0) | education(1) | allergy(1) | asthma(0) |                                        0.0090 |\n",
      "+--------+----------+--------+--------------+------------+-----------+-----------------------------------------------+\n",
      "| sex(0) | smoke(1) | age(0) | education(1) | allergy(1) | asthma(1) |                                        0.0246 |\n",
      "+--------+----------+--------+--------------+------------+-----------+-----------------------------------------------+\n",
      "| sex(0) | smoke(1) | age(1) | education(0) | allergy(0) | asthma(0) |                                        0.0199 |\n",
      "+--------+----------+--------+--------------+------------+-----------+-----------------------------------------------+\n",
      "| sex(0) | smoke(1) | age(1) | education(0) | allergy(0) | asthma(1) |                                        0.0233 |\n",
      "+--------+----------+--------+--------------+------------+-----------+-----------------------------------------------+\n",
      "| sex(0) | smoke(1) | age(1) | education(0) | allergy(1) | asthma(0) |                                        0.0000 |\n",
      "+--------+----------+--------+--------------+------------+-----------+-----------------------------------------------+\n",
      "| sex(0) | smoke(1) | age(1) | education(0) | allergy(1) | asthma(1) |                                        0.1008 |\n",
      "+--------+----------+--------+--------------+------------+-----------+-----------------------------------------------+\n",
      "| sex(0) | smoke(1) | age(1) | education(1) | allergy(0) | asthma(0) |                                        0.0161 |\n",
      "+--------+----------+--------+--------------+------------+-----------+-----------------------------------------------+\n",
      "| sex(0) | smoke(1) | age(1) | education(1) | allergy(0) | asthma(1) |                                        0.0127 |\n",
      "+--------+----------+--------+--------------+------------+-----------+-----------------------------------------------+\n",
      "| sex(0) | smoke(1) | age(1) | education(1) | allergy(1) | asthma(0) |                                        0.0336 |\n",
      "+--------+----------+--------+--------------+------------+-----------+-----------------------------------------------+\n",
      "| sex(0) | smoke(1) | age(1) | education(1) | allergy(1) | asthma(1) |                                        0.0336 |\n",
      "+--------+----------+--------+--------------+------------+-----------+-----------------------------------------------+\n",
      "| sex(0) | smoke(1) | age(2) | education(0) | allergy(0) | asthma(0) |                                        0.0072 |\n",
      "+--------+----------+--------+--------------+------------+-----------+-----------------------------------------------+\n",
      "| sex(0) | smoke(1) | age(2) | education(0) | allergy(0) | asthma(1) |                                        0.0000 |\n",
      "+--------+----------+--------+--------------+------------+-----------+-----------------------------------------------+\n",
      "| sex(0) | smoke(1) | age(2) | education(0) | allergy(1) | asthma(0) |                                        0.0028 |\n",
      "+--------+----------+--------+--------------+------------+-----------+-----------------------------------------------+\n",
      "| sex(0) | smoke(1) | age(2) | education(0) | allergy(1) | asthma(1) |                                        0.0140 |\n",
      "+--------+----------+--------+--------------+------------+-----------+-----------------------------------------------+\n",
      "| sex(0) | smoke(1) | age(2) | education(1) | allergy(0) | asthma(0) |                                        0.0041 |\n",
      "+--------+----------+--------+--------------+------------+-----------+-----------------------------------------------+\n",
      "| sex(0) | smoke(1) | age(2) | education(1) | allergy(0) | asthma(1) |                                        0.0007 |\n",
      "+--------+----------+--------+--------------+------------+-----------+-----------------------------------------------+\n",
      "| sex(0) | smoke(1) | age(2) | education(1) | allergy(1) | asthma(0) |                                        0.0037 |\n",
      "+--------+----------+--------+--------------+------------+-----------+-----------------------------------------------+\n",
      "| sex(0) | smoke(1) | age(2) | education(1) | allergy(1) | asthma(1) |                                        0.0075 |\n",
      "+--------+----------+--------+--------------+------------+-----------+-----------------------------------------------+\n",
      "| sex(1) | smoke(0) | age(0) | education(0) | allergy(0) | asthma(0) |                                        0.0043 |\n",
      "+--------+----------+--------+--------------+------------+-----------+-----------------------------------------------+\n",
      "| sex(1) | smoke(0) | age(0) | education(0) | allergy(0) | asthma(1) |                                        0.0011 |\n",
      "+--------+----------+--------+--------------+------------+-----------+-----------------------------------------------+\n",
      "| sex(1) | smoke(0) | age(0) | education(0) | allergy(1) | asthma(0) |                                        0.0032 |\n",
      "+--------+----------+--------+--------------+------------+-----------+-----------------------------------------------+\n",
      "| sex(1) | smoke(0) | age(0) | education(0) | allergy(1) | asthma(1) |                                        0.0094 |\n",
      "+--------+----------+--------+--------------+------------+-----------+-----------------------------------------------+\n",
      "| sex(1) | smoke(0) | age(0) | education(1) | allergy(0) | asthma(0) |                                        0.0027 |\n",
      "+--------+----------+--------+--------------+------------+-----------+-----------------------------------------------+\n",
      "| sex(1) | smoke(0) | age(0) | education(1) | allergy(0) | asthma(1) |                                        0.0009 |\n",
      "+--------+----------+--------+--------------+------------+-----------+-----------------------------------------------+\n",
      "| sex(1) | smoke(0) | age(0) | education(1) | allergy(1) | asthma(0) |                                        0.0021 |\n",
      "+--------+----------+--------+--------------+------------+-----------+-----------------------------------------------+\n",
      "| sex(1) | smoke(0) | age(0) | education(1) | allergy(1) | asthma(1) |                                        0.0063 |\n",
      "+--------+----------+--------+--------------+------------+-----------+-----------------------------------------------+\n",
      "| sex(1) | smoke(0) | age(1) | education(0) | allergy(0) | asthma(0) |                                        0.0085 |\n",
      "+--------+----------+--------+--------------+------------+-----------+-----------------------------------------------+\n",
      "| sex(1) | smoke(0) | age(1) | education(0) | allergy(0) | asthma(1) |                                        0.0023 |\n",
      "+--------+----------+--------+--------------+------------+-----------+-----------------------------------------------+\n",
      "| sex(1) | smoke(0) | age(1) | education(0) | allergy(1) | asthma(0) |                                        0.0078 |\n",
      "+--------+----------+--------+--------------+------------+-----------+-----------------------------------------------+\n",
      "| sex(1) | smoke(0) | age(1) | education(0) | allergy(1) | asthma(1) |                                        0.0174 |\n",
      "+--------+----------+--------+--------------+------------+-----------+-----------------------------------------------+\n",
      "| sex(1) | smoke(0) | age(1) | education(1) | allergy(0) | asthma(0) |                                        0.0035 |\n",
      "+--------+----------+--------+--------------+------------+-----------+-----------------------------------------------+\n",
      "| sex(1) | smoke(0) | age(1) | education(1) | allergy(0) | asthma(1) |                                        0.0037 |\n",
      "+--------+----------+--------+--------------+------------+-----------+-----------------------------------------------+\n",
      "| sex(1) | smoke(0) | age(1) | education(1) | allergy(1) | asthma(0) |                                        0.0036 |\n",
      "+--------+----------+--------+--------------+------------+-----------+-----------------------------------------------+\n",
      "| sex(1) | smoke(0) | age(1) | education(1) | allergy(1) | asthma(1) |                                        0.0132 |\n",
      "+--------+----------+--------+--------------+------------+-----------+-----------------------------------------------+\n",
      "| sex(1) | smoke(0) | age(2) | education(0) | allergy(0) | asthma(0) |                                        0.0015 |\n",
      "+--------+----------+--------+--------------+------------+-----------+-----------------------------------------------+\n",
      "| sex(1) | smoke(0) | age(2) | education(0) | allergy(0) | asthma(1) |                                        0.0003 |\n",
      "+--------+----------+--------+--------------+------------+-----------+-----------------------------------------------+\n",
      "| sex(1) | smoke(0) | age(2) | education(0) | allergy(1) | asthma(0) |                                        0.0012 |\n",
      "+--------+----------+--------+--------------+------------+-----------+-----------------------------------------------+\n",
      "| sex(1) | smoke(0) | age(2) | education(0) | allergy(1) | asthma(1) |                                        0.0030 |\n",
      "+--------+----------+--------+--------------+------------+-----------+-----------------------------------------------+\n",
      "| sex(1) | smoke(0) | age(2) | education(1) | allergy(0) | asthma(0) |                                        0.0007 |\n",
      "+--------+----------+--------+--------------+------------+-----------+-----------------------------------------------+\n",
      "| sex(1) | smoke(0) | age(2) | education(1) | allergy(0) | asthma(1) |                                        0.0005 |\n",
      "+--------+----------+--------+--------------+------------+-----------+-----------------------------------------------+\n",
      "| sex(1) | smoke(0) | age(2) | education(1) | allergy(1) | asthma(0) |                                        0.0011 |\n",
      "+--------+----------+--------+--------------+------------+-----------+-----------------------------------------------+\n",
      "| sex(1) | smoke(0) | age(2) | education(1) | allergy(1) | asthma(1) |                                        0.0017 |\n",
      "+--------+----------+--------+--------------+------------+-----------+-----------------------------------------------+\n",
      "| sex(1) | smoke(1) | age(0) | education(0) | allergy(0) | asthma(0) |                                        0.0175 |\n",
      "+--------+----------+--------+--------------+------------+-----------+-----------------------------------------------+\n",
      "| sex(1) | smoke(1) | age(0) | education(0) | allergy(0) | asthma(1) |                                        0.0041 |\n",
      "+--------+----------+--------+--------------+------------+-----------+-----------------------------------------------+\n",
      "| sex(1) | smoke(1) | age(0) | education(0) | allergy(1) | asthma(0) |                                        0.0072 |\n",
      "+--------+----------+--------+--------------+------------+-----------+-----------------------------------------------+\n",
      "| sex(1) | smoke(1) | age(0) | education(0) | allergy(1) | asthma(1) |                                        0.0432 |\n",
      "+--------+----------+--------+--------------+------------+-----------+-----------------------------------------------+\n",
      "| sex(1) | smoke(1) | age(0) | education(1) | allergy(0) | asthma(0) |                                        0.0106 |\n",
      "+--------+----------+--------+--------------+------------+-----------+-----------------------------------------------+\n",
      "| sex(1) | smoke(1) | age(0) | education(1) | allergy(0) | asthma(1) |                                        0.0038 |\n",
      "+--------+----------+--------+--------------+------------+-----------+-----------------------------------------------+\n",
      "| sex(1) | smoke(1) | age(0) | education(1) | allergy(1) | asthma(0) |                                        0.0112 |\n",
      "+--------+----------+--------+--------------+------------+-----------+-----------------------------------------------+\n",
      "| sex(1) | smoke(1) | age(0) | education(1) | allergy(1) | asthma(1) |                                        0.0224 |\n",
      "+--------+----------+--------+--------------+------------+-----------+-----------------------------------------------+\n",
      "| sex(1) | smoke(1) | age(1) | education(0) | allergy(0) | asthma(0) |                                        0.0360 |\n",
      "+--------+----------+--------+--------------+------------+-----------+-----------------------------------------------+\n",
      "| sex(1) | smoke(1) | age(1) | education(0) | allergy(0) | asthma(1) |                                        0.0072 |\n",
      "+--------+----------+--------+--------------+------------+-----------+-----------------------------------------------+\n",
      "| sex(1) | smoke(1) | age(1) | education(0) | allergy(1) | asthma(0) |                                        0.0672 |\n",
      "+--------+----------+--------+--------------+------------+-----------+-----------------------------------------------+\n",
      "| sex(1) | smoke(1) | age(1) | education(0) | allergy(1) | asthma(1) |                                        0.0336 |\n",
      "+--------+----------+--------+--------------+------------+-----------+-----------------------------------------------+\n",
      "| sex(1) | smoke(1) | age(1) | education(1) | allergy(0) | asthma(0) |                                        0.0123 |\n",
      "+--------+----------+--------+--------------+------------+-----------+-----------------------------------------------+\n",
      "| sex(1) | smoke(1) | age(1) | education(1) | allergy(0) | asthma(1) |                                        0.0165 |\n",
      "+--------+----------+--------+--------------+------------+-----------+-----------------------------------------------+\n",
      "| sex(1) | smoke(1) | age(1) | education(1) | allergy(1) | asthma(0) |                                        0.0000 |\n",
      "+--------+----------+--------+--------------+------------+-----------+-----------------------------------------------+\n",
      "| sex(1) | smoke(1) | age(1) | education(1) | allergy(1) | asthma(1) |                                        0.0672 |\n",
      "+--------+----------+--------+--------------+------------+-----------+-----------------------------------------------+\n",
      "| sex(1) | smoke(1) | age(2) | education(0) | allergy(0) | asthma(0) |                                        0.0048 |\n",
      "+--------+----------+--------+--------------+------------+-----------+-----------------------------------------------+\n",
      "| sex(1) | smoke(1) | age(2) | education(0) | allergy(0) | asthma(1) |                                        0.0024 |\n",
      "+--------+----------+--------+--------------+------------+-----------+-----------------------------------------------+\n",
      "| sex(1) | smoke(1) | age(2) | education(0) | allergy(1) | asthma(0) |                                        0.0000 |\n",
      "+--------+----------+--------+--------------+------------+-----------+-----------------------------------------------+\n",
      "| sex(1) | smoke(1) | age(2) | education(0) | allergy(1) | asthma(1) |                                        0.0168 |\n",
      "+--------+----------+--------+--------------+------------+-----------+-----------------------------------------------+\n",
      "| sex(1) | smoke(1) | age(2) | education(1) | allergy(0) | asthma(0) |                                        0.0048 |\n",
      "+--------+----------+--------+--------------+------------+-----------+-----------------------------------------------+\n",
      "| sex(1) | smoke(1) | age(2) | education(1) | allergy(0) | asthma(1) |                                        0.0000 |\n",
      "+--------+----------+--------+--------------+------------+-----------+-----------------------------------------------+\n",
      "| sex(1) | smoke(1) | age(2) | education(1) | allergy(1) | asthma(0) |                                        0.0019 |\n",
      "+--------+----------+--------+--------------+------------+-----------+-----------------------------------------------+\n",
      "| sex(1) | smoke(1) | age(2) | education(1) | allergy(1) | asthma(1) |                                        0.0093 |\n",
      "+--------+----------+--------+--------------+------------+-----------+-----------------------------------------------+\n"
     ]
    }
   ],
   "source": [
    "print(samples)"
   ]
  },
  {
   "cell_type": "code",
   "execution_count": 26,
   "id": "e16a32bb-1934-443f-89d0-0a6b6e6c26e7",
   "metadata": {},
   "outputs": [],
   "source": [
    "# pip install networkx matplotlib"
   ]
  },
  {
   "cell_type": "code",
   "execution_count": 27,
   "id": "c35d9969-4324-4f48-aa80-e6eb61a3cb9f",
   "metadata": {},
   "outputs": [],
   "source": [
    "import networkx as nx\n",
    "import matplotlib.pyplot as plt"
   ]
  },
  {
   "cell_type": "code",
   "execution_count": 28,
   "id": "8bcda4cd-0bb4-4620-998e-b2a90a3dc464",
   "metadata": {},
   "outputs": [],
   "source": [
    "# pip install daft"
   ]
  },
  {
   "cell_type": "code",
   "execution_count": 48,
   "id": "b0ef95e9-ed05-4000-b483-373103e06183",
   "metadata": {},
   "outputs": [
    {
     "data": {
      "image/png": "[encoded data removed]",
      "text/plain": [
       "<Figure size 640x480 with 1 Axes>"
      ]
     },
     "metadata": {},
     "output_type": "display_data"
    }
   ],
   "source": [
    "# Turning Our Bayesian Network into a Picture\n",
    "graph = nx.DiGraph(model.edges())\n",
    "\n",
    "# Showing Our Picture\n",
    "nx.draw(graph, with_labels=True, node_size=1500, node_color=\"skyblue\", font_size=10, font_color=\"black\")\n",
    "plt.show()"
   ]
  },
  {
   "cell_type": "code",
   "execution_count": null,
   "id": "001ec8e1-608c-4806-a67f-ca1970121022",
   "metadata": {},
   "outputs": [],
   "source": []
  }
 ],
 "metadata": {
  "kernelspec": {
   "display_name": "Python 3 (ipykernel)",
   "language": "python",
   "name": "python3"
  },
  "language_info": {
   "codemirror_mode": {
    "name": "ipython",
    "version": 3
   },
   "file_extension": ".py",
   "mimetype": "text/x-python",
   "name": "python",
   "nbconvert_exporter": "python",
   "pygments_lexer": "ipython3",
   "version": "3.11.0"
  }
 },
 "nbformat": 4,
 "nbformat_minor": 5
}
